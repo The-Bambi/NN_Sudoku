{
  "nbformat": 4,
  "nbformat_minor": 0,
  "metadata": {
    "colab": {
      "name": "NN_sudoku",
      "provenance": [],
      "collapsed_sections": []
    },
    "kernelspec": {
      "name": "python3",
      "display_name": "Python 3"
    }
  },
  "cells": [
    {
      "cell_type": "markdown",
      "metadata": {
        "id": "IbiBS2rS3aeP"
      },
      "source": [
        "# A word for the beginning\n",
        "\n",
        "this was an experiment - did not expect to find a good solution, did not even bother to improve the data and make proper outputs. For each 'dimention' of sudoku there's a conv layer, one going in squares, one in horizontal lines, one in vertical, then concatenated and dense layer in the end. Unfortunately whatever architecture did I use, there is no shortcut for sudoku. The only solution I found to work is a recurrent network, calculating probability for each empty square for each number, then a filling one square that had a number with highest probability from the entire grid, and then calculating probability again this time with the square filled.\n",
        "\n",
        "Sudoku is an NP problem, and the only way to improve the process and fill the grid and any larger variation (16x16, 25x25...) with the same P time would be to calculate every single cell for any possible grid combinations, at the same time, which is not possible on our boring deterministic machines with finite memory and speed. \n",
        "\n",
        "Training data: \n",
        "https://www.kaggle.com/bryanpark/sudoku 1 000 000 sudokus, unsolved + solved"
      ]
    },
    {
      "cell_type": "code",
      "metadata": {
        "id": "79_P3j4iTNyx"
      },
      "source": [
        "import pandas as pd\n",
        "import numpy as np\n",
        "\n",
        "import keras\n",
        "from keras import models\n",
        "from keras.layers import *\n",
        "from keras.utils import to_categorical\n",
        "from tensorflow import nn\n",
        "\n",
        "import matplotlib.pyplot as plt\n",
        "from random import randint\n",
        "\n",
        "from sklearn.model_selection import train_test_split"
      ],
      "execution_count": null,
      "outputs": []
    },
    {
      "cell_type": "code",
      "metadata": {
        "id": "nGRpAGv2Tgew",
        "outputId": "cd4a7d48-42e6-4d9e-e1b9-7d5a9283309c",
        "colab": {
          "base_uri": "https://localhost:8080/",
          "height": 34
        }
      },
      "source": [
        "from google.colab import drive\n",
        "drive.mount('/content/gdrive')\n",
        "#Ścieżka do pliku\n",
        "data = pd.read_csv('gdrive/My Drive/Colab Notebooks/sudoku/sudoku.csv', sep = ',')"
      ],
      "execution_count": null,
      "outputs": [
        {
          "output_type": "stream",
          "text": [
            "Mounted at /content/gdrive\n"
          ],
          "name": "stdout"
        }
      ]
    },
    {
      "cell_type": "code",
      "metadata": {
        "id": "lu9oIonAffj0"
      },
      "source": [
        "listify = lambda x : np.array([(int(i) - 5)/5 for i in x], dtype=float)\n",
        "npdata = data.applymap(listify)"
      ],
      "execution_count": null,
      "outputs": []
    },
    {
      "cell_type": "code",
      "metadata": {
        "id": "3asYnjOdk7_z"
      },
      "source": [
        "x_train, x_test, y_train, y_test = train_test_split(np.array(npdata.iloc[:,0]), np.array(npdata.iloc[:,1]), test_size = 0.2)"
      ],
      "execution_count": null,
      "outputs": []
    },
    {
      "cell_type": "code",
      "metadata": {
        "id": "mNwnS1JulHSO"
      },
      "source": [
        "x_train = np.reshape(np.array(x_train.tolist()), (800000,9,9))\n",
        "x_test = np.reshape(np.array(x_test.tolist()), (200000,9,9))\n",
        "y_train = np.reshape(np.array(y_train.tolist()), (800000,9,9))\n",
        "y_test = np.reshape(np.array(y_test.tolist()), (200000,9,9))"
      ],
      "execution_count": null,
      "outputs": []
    },
    {
      "cell_type": "code",
      "metadata": {
        "id": "YKFk6TfrTycN",
        "outputId": "f69b07e9-8be2-4d8c-c8c2-c98c59a09e83",
        "colab": {
          "base_uri": "https://localhost:8080/",
          "height": 170
        }
      },
      "source": [
        "y_train[0]"
      ],
      "execution_count": null,
      "outputs": [
        {
          "output_type": "execute_result",
          "data": {
            "text/plain": [
              "array([[ 0. ,  0.2, -0.2,  0.8, -0.8,  0.6,  0.4, -0.4, -0.6],\n",
              "       [-0.4,  0.6, -0.6, -0.2,  0.4,  0.2,  0.8, -0.8,  0. ],\n",
              "       [ 0.4, -0.8,  0.8, -0.4, -0.6,  0. ,  0.6,  0.2, -0.2],\n",
              "       [-0.8, -0.2, -0.4,  0. ,  0.6,  0.4, -0.6,  0.8,  0.2],\n",
              "       [-0.6,  0.8,  0.6,  0.2, -0.4, -0.2, -0.8,  0. ,  0.4],\n",
              "       [ 0.2,  0. ,  0.4, -0.8,  0.8, -0.6, -0.4, -0.2,  0.6],\n",
              "       [-0.2, -0.6, -0.8,  0.6,  0. , -0.4,  0.2,  0.4,  0.8],\n",
              "       [ 0.8,  0.4,  0.2, -0.6, -0.2, -0.8,  0. ,  0.6, -0.4],\n",
              "       [ 0.6, -0.4,  0. ,  0.4,  0.2,  0.8, -0.2, -0.6, -0.8]])"
            ]
          },
          "metadata": {
            "tags": []
          },
          "execution_count": 60
        }
      ]
    },
    {
      "cell_type": "code",
      "metadata": {
        "id": "FzBS4108T8-E"
      },
      "source": [
        "inputlayer = Input((9,9,1))\n",
        "squares = Conv2D(9, (3,3), strides = (3,3), input_shape = (9,9,1), activation = 'softmax', padding = 'valid')(inputlayer)\n",
        "flat_squares = Flatten()(squares)\n",
        "squares_dense = Dense(9, activation = 'softmax')(flat_squares)\n",
        "\n",
        "cols = Conv2D(9, (9,1), strides = (1,1), input_shape = (9,9,1), activation='softmax', padding = 'valid')(inputlayer)\n",
        "flat_cols = Flatten()(cols)\n",
        "cols_dense = Dense(9, activation = 'softmax')(flat_cols)\n",
        "\n",
        "rows = Conv2D(9, (1,9), strides = (1,1), input_shape = (9,9,1), activation = 'softmax', padding = 'valid')(inputlayer)\n",
        "flat_rows = Flatten()(rows)\n",
        "rows_dense = Dense(9, activation = 'softmax')(flat_rows)\n",
        "\n",
        "merge = concatenate([squares_dense, cols_dense, rows_dense], axis = 1)\n",
        "\n",
        "dense = Dense(81, activation = 'softmax')(merge)\n",
        "out = Reshape((9,9,1))(dense)\n",
        "\n",
        "model = keras.Model(inputlayer, out)\n",
        "\n",
        "model.compile(optimizer = keras.optimizers.Adam(), loss='categorical_crossentropy', metrics = ['accuracy'])"
      ],
      "execution_count": null,
      "outputs": []
    },
    {
      "cell_type": "code",
      "metadata": {
        "id": "mwxzWEa2eepa",
        "outputId": "3eb937ae-c96d-472e-d8db-6b6834cc7141",
        "colab": {
          "base_uri": "https://localhost:8080/",
          "height": 374
        }
      },
      "source": [
        "model.fit(x_train, y_train, epochs = 10)"
      ],
      "execution_count": null,
      "outputs": [
        {
          "output_type": "stream",
          "text": [
            "Epoch 1/10\n",
            "25000/25000 [==============================] - 65s 3ms/step - loss: -3.1188 - accuracy: 0.1109\n",
            "Epoch 2/10\n",
            "25000/25000 [==============================] - 72s 3ms/step - loss: -5.3556 - accuracy: 0.1108\n",
            "Epoch 3/10\n",
            "25000/25000 [==============================] - 72s 3ms/step - loss: -5.9862 - accuracy: 0.1108\n",
            "Epoch 4/10\n",
            "25000/25000 [==============================] - 71s 3ms/step - loss: -6.5904 - accuracy: 0.1108\n",
            "Epoch 5/10\n",
            "25000/25000 [==============================] - 68s 3ms/step - loss: -7.0535 - accuracy: 0.1108\n",
            "Epoch 6/10\n",
            "25000/25000 [==============================] - 67s 3ms/step - loss: -7.3725 - accuracy: 0.1107\n",
            "Epoch 7/10\n",
            "25000/25000 [==============================] - 69s 3ms/step - loss: -7.6257 - accuracy: 0.1107\n",
            "Epoch 8/10\n",
            "25000/25000 [==============================] - 67s 3ms/step - loss: -7.8118 - accuracy: 0.1107\n",
            "Epoch 9/10\n",
            "25000/25000 [==============================] - 65s 3ms/step - loss: -7.9495 - accuracy: 0.1107\n",
            "Epoch 10/10\n",
            "25000/25000 [==============================] - 65s 3ms/step - loss: -8.0560 - accuracy: 0.1107\n"
          ],
          "name": "stdout"
        },
        {
          "output_type": "execute_result",
          "data": {
            "text/plain": [
              "<tensorflow.python.keras.callbacks.History at 0x7efca49017b8>"
            ]
          },
          "metadata": {
            "tags": []
          },
          "execution_count": 59
        }
      ]
    },
    {
      "cell_type": "code",
      "metadata": {
        "id": "q9HuOOWxGkRh"
      },
      "source": [
        ""
      ],
      "execution_count": null,
      "outputs": []
    }
  ]
}